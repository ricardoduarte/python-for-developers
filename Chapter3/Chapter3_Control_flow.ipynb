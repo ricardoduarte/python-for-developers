{
 "metadata": {
  "name": "Chapter3_Control_flow"
 },
 "nbformat": 3,
 "nbformat_minor": 0,
 "orig_nbformat": 2,
 "worksheets": [
  {
   "cells": [
    {
     "cell_type": "markdown",
     "source": [
      "[Python for Developers](http://ricardoduarte.github.io/python-for-developers/#content)\n",
      "===================================\n",
      "First edition\n",
      "-----------------------------------\n",
      "\n",
      "Chapter 3: Control Flow\n",
      "=============================\n",
      "_____________________________\n",
      "It is very common for a program that certain sets of instructions are executed conditionally, in cases such as validating data entries, for example.\n",
      "\n",
      "Syntax:\n",
      "\n",
      "    if <condition>:\n",
      "        <code block>\n",
      "    elif <condition>:\n",
      "        <code block>\n",
      "    elif <condition>:\n",
      "        <code block>\n",
      "    else:\n",
      "        <code block>\n",
      "\n",
      "Where:\n",
      "\n",
      "+ `<condition>`: sentence that can be evaluated as true or false.\n",
      "+ `<code block>`: sequence of command lines.\n",
      "+ The clauses `elif` and `else` are optional and\u00a0 several `elifs` for the `if` may be used but only\u00a0 one `else` at the end.\n",
      "+ Parentheses are only required to avoid ambiguity.\n",
      "Exemplo:"
     ]
    },
    {
     "cell_type": "code",
     "collapsed": false,
     "input": [
      "temp = 23 # temperature value used to test\n",
      "\n",
      "if temp < 0:\n",
      "    print 'Freezing...'\n",
      "elif 0 <= temp <= 20:\n",
      "    print 'Cold'\n",
      "elif 21 <= temp <= 25:\n",
      "    print 'Normal'\n",
      "elif 26 <= temp <= 35:\n",
      "    print 'Hot'\n",
      "else:\n",
      "    print 'Very Hot!'"
     ],
     "language": "python",
     "outputs": [
      {
       "output_type": "stream",
       "stream": "stdout",
       "text": [
        "Normal\n"
       ]
      }
     ],
     "prompt_number": 3
    },
    {
     "cell_type": "markdown",
     "source": [
      "Imagine that in the above program, `23` is the temperature which was read by\u00a0 some sensor or manually entered by the user and `Normal` is the response of the program.\n",
      "\n",
      "If the code block is composed of only one line, it can be written after the colon:\n",
      "\n",
      "    if temp < 0: print 'Freezing...'\n",
      "\n",
      "Since version 2.5, Python supports the expression:\n",
      "\n",
      "    <variable> = <value 1> if <condition> else <value 2>\n",
      "\n",
      "Where `<variable>` receives `<value 1>` if `<condition>` is true and `<value 2>`  otherwise."
     ]
    },
    {
     "cell_type": "code",
     "collapsed": false,
     "input": [],
     "language": "python",
     "outputs": [
      {
       "html": [
        "<style>\n",
        "    @font-face {\n",
        "        font-family: \"Computer Modern\";\n",
        "        src: url('http://mirrors.ctan.org/fonts/cm-unicode/fonts/otf/cmunss.otf');\n",
        "    }\n",
        "    div.cell{\n",
        "        width:800px;\n",
        "        margin-left:16% !important;\n",
        "        margin-right:auto;\n",
        "    }\n",
        "    h1 {\n",
        "        font-family: Helvetica, serif;\n",
        "    }\n",
        "    h4{\n",
        "        margin-top:12px;\n",
        "        margin-bottom: 3px;\n",
        "       }\n",
        "    div.text_cell_render{\n",
        "        font-family: Computer Modern, \"Helvetica Neue\", Arial, Helvetica, Geneva, sans-serif;\n",
        "        line-height: 145%;\n",
        "        font-size: 130%;\n",
        "        width:800px;\n",
        "        margin-left:auto;\n",
        "        margin-right:auto;\n",
        "    }\n",
        "    .CodeMirror{\n",
        "            font-family: \"Source Code Pro\", source-code-pro,Consolas, monospace;\n",
        "    }\n",
        "    .note{\n",
        "            border-bottom: 1px black dotted;\n",
        "    }\n",
        "    .prompt{\n",
        "        display: None;\n",
        "    }\n",
        "    .text_cell_render h5 {\n",
        "        font-weight: 300;\n",
        "        font-size: 16pt;\n",
        "        color: #4057A1;\n",
        "        font-style: italic;\n",
        "        margin-bottom: .5em;\n",
        "        margin-top: 0.5em;\n",
        "        display: block;\n",
        "    }\n",
        "    \n",
        "    .warning{\n",
        "        color: rgb( 240, 20, 20 )\n",
        "        }  \n",
        "</style>\n",
        "<script>\n",
        "    MathJax.Hub.Config({\n",
        "                        TeX: {\n",
        "                           extensions: [\"AMSmath.js\"]\n",
        "                           },\n",
        "                tex2jax: {\n",
        "                    inlineMath: [ ['$','$'], [\"\\\\(\",\"\\\\)\"] ],\n",
        "                    displayMath: [ ['$$','$$'], [\"\\\\[\",\"\\\\]\"] ]\n",
        "                },\n",
        "                displayAlign: 'center', // Change this to 'center' to center equations.\n",
        "                \"HTML-CSS\": {\n",
        "                    styles: {'.MathJax_Display': {\"margin\": 4}}\n",
        "                }\n",
        "        });\n",
        "</script>"
       ],
       "output_type": "pyout",
       "prompt_number": 1,
       "text": [
        "<IPython.core.display.HTML at 0x50f8f98>"
       ]
      }
     ],
     "prompt_number": 1
    }
   ]
  }
 ]
}